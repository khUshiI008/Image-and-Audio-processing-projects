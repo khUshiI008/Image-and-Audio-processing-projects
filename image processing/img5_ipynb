import cv2 
import matplotlib.pyplot as plt

img = cv2.imread('img6.jpg')
plt.imshow(img, cmap = 'gray')
plt.show()
img_gray = cv2.cvtColor(img, cv2.COLOR_BGR2GRAY)
plt.imshow(img_gray, cmap = 'gray')
plt.show()